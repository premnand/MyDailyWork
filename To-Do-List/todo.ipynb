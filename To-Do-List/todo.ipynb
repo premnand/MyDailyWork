{
 "cells": [
  {
   "cell_type": "code",
   "execution_count": 11,
   "id": "41111239-48a2-40c1-8a3b-fb0217b59cc0",
   "metadata": {},
   "outputs": [
    {
     "ename": "ModuleNotFoundError",
     "evalue": "No module named 'models'",
     "output_type": "error",
     "traceback": [
      "\u001b[1;31m---------------------------------------------------------------------------\u001b[0m",
      "\u001b[1;31mModuleNotFoundError\u001b[0m                       Traceback (most recent call last)",
      "Cell \u001b[1;32mIn[11], line 3\u001b[0m\n\u001b[0;32m      1\u001b[0m \u001b[38;5;28;01mimport\u001b[39;00m \u001b[38;5;21;01mtkinter\u001b[39;00m \u001b[38;5;28;01mas\u001b[39;00m \u001b[38;5;21;01mtk\u001b[39;00m\n\u001b[0;32m      2\u001b[0m \u001b[38;5;28;01mfrom\u001b[39;00m \u001b[38;5;21;01mtkinter\u001b[39;00m \u001b[38;5;28;01mimport\u001b[39;00m messagebox\n\u001b[1;32m----> 3\u001b[0m \u001b[38;5;28;01mfrom\u001b[39;00m \u001b[38;5;21;01mmodels\u001b[39;00m\u001b[38;5;21;01m.\u001b[39;00m\u001b[38;5;21;01mtask\u001b[39;00m \u001b[38;5;28;01mimport\u001b[39;00m Task\n\u001b[0;32m      4\u001b[0m \u001b[38;5;28;01mfrom\u001b[39;00m \u001b[38;5;21;01mmodels\u001b[39;00m\u001b[38;5;21;01m.\u001b[39;00m\u001b[38;5;21;01mtask_manager\u001b[39;00m \u001b[38;5;28;01mimport\u001b[39;00m TaskManager\n\u001b[0;32m      6\u001b[0m \u001b[38;5;28;01mclass\u001b[39;00m \u001b[38;5;21;01mMainWindow\u001b[39;00m:\n",
      "\u001b[1;31mModuleNotFoundError\u001b[0m: No module named 'models'"
     ]
    }
   ],
   "source": [
    "import tkinter as tk\n",
    "from tkinter import messagebox\n",
    "from models.task import Task\n",
    "from models.task_manager import TaskManager\n",
    "\n",
    "class MainWindow:\n",
    "    def __init__(self, root):\n",
    "        self.manager = TaskManager()\n",
    "        self.root = root\n",
    "        self.root.title(\"To-Do List Application\")\n",
    "\n",
    "        # Input Frame\n",
    "        input_frame = tk.Frame(root)\n",
    "        input_frame.pack(pady=10)\n",
    "\n",
    "        tk.Label(input_frame, text=\"Task:\").grid(row=0, column=0, padx=5)\n",
    "        self.task_entry = tk.Entry(input_frame, width=40)\n",
    "        self.task_entry.grid(row=0, column=1, padx=5)\n",
    "\n",
    "        tk.Label(input_frame, text=\"Due Date:\").grid(row=1, column=0, padx=5)\n",
    "        self.due_entry = tk.Entry(input_frame, width=40)\n",
    "        self.due_entry.grid(row=1, column=1, padx=5)\n",
    "\n",
    "        tk.Label(input_frame, text=\"Priority:\").grid(row=2, column=0, padx=5)\n",
    "        self.priority_var = tk.StringVar(value=\"Normal\")\n",
    "        tk.OptionMenu(input_frame, self.priority_var, \"Low\", \"Normal\", \"High\").grid(row=2, column=1, padx=5, sticky='w')\n",
    "\n",
    "        tk.Button(input_frame, text=\"Add Task\", command=self.add_task).grid(row=3, column=1, pady=10, sticky='e')\n",
    "\n",
    "        # Tasks List\n",
    "        self.tasks_listbox = tk.Listbox(root, width=80)\n",
    "        self.tasks_listbox.pack(pady=10)\n",
    "        self.tasks_listbox.bind('<Double-1>', self.toggle_status)\n",
    "\n",
    "        self.load_tasks()\n",
    "\n",
    "    def load_tasks(self):\n",
    "        self.tasks_listbox.delete(0, tk.END)\n",
    "        for task in self.manager.list_tasks():\n",
    "            status = \"✔\" if task.status == \"Complete\" else \"✘\"\n",
    "            self.tasks_listbox.insert(tk.END, f\"[{status}] {task.description} (Due: {task.due_date}) [Priority: {task.priority}] ID: {task.id}\")\n",
    "\n",
    "    def add_task(self):\n",
    "        description = self.task_entry.get()\n",
    "        due_date = self.due_entry.get()\n",
    "        priority = self.priority_var.get()\n",
    "        if description:\n",
    "            task = Task(description=description, due_date=due_date, priority=priority)\n",
    "            self.manager.add_task(task)\n",
    "            self.load_tasks()\n",
    "            self.task_entry.delete(0, tk.END)\n",
    "            self.due_entry.delete(0, tk.END)\n",
    "        else:\n",
    "            messagebox.showwarning(\"Input Error\", \"Task description cannot be empty.\")\n",
    "\n",
    "    def toggle_status(self, event):\n",
    "        selection = self.tasks_listbox.curselection()\n",
    "        if selection:\n",
    "            index = selection[0]\n",
    "            task_str = self.tasks_listbox.get(index)\n",
    "            task_id = task_str.split(\"ID: \")[1]\n",
    "            task = self.manager.get_task(task_id)\n",
    "            if task:\n",
    "                new_status = \"Complete\" if task.status == \"Incomplete\" else \"Incomplete\"\n",
    "                self.manager.update_task(task_id, status=new_status)\n",
    "                self.load_tasks()\n"
   ]
  },
  {
   "cell_type": "code",
   "execution_count": 8,
   "id": "2178d081-2a86-4cb4-990e-aa98b989e25e",
   "metadata": {},
   "outputs": [
    {
     "name": "stdout",
     "output_type": "stream",
     "text": [
      "Defaulting to user installation because normal site-packages is not writeable\n",
      "Collecting PyQt5\n",
      "  Downloading PyQt5-5.15.11-cp38-abi3-win_amd64.whl.metadata (2.1 kB)\n",
      "Collecting PyQt5-sip<13,>=12.15 (from PyQt5)\n",
      "  Downloading PyQt5_sip-12.15.0-cp312-cp312-win_amd64.whl.metadata (439 bytes)\n",
      "Collecting PyQt5-Qt5<5.16.0,>=5.15.2 (from PyQt5)\n",
      "  Downloading PyQt5_Qt5-5.15.2-py3-none-win_amd64.whl.metadata (552 bytes)\n",
      "Downloading PyQt5-5.15.11-cp38-abi3-win_amd64.whl (6.9 MB)\n",
      "   ---------------------------------------- 0.0/6.9 MB ? eta -:--:--\n",
      "   ------------ --------------------------- 2.1/6.9 MB 14.7 MB/s eta 0:00:01\n",
      "   ---------------------------------------  6.8/6.9 MB 22.1 MB/s eta 0:00:01\n",
      "   ---------------------------------------- 6.9/6.9 MB 20.1 MB/s eta 0:00:00\n",
      "Downloading PyQt5_Qt5-5.15.2-py3-none-win_amd64.whl (50.1 MB)\n",
      "   ---------------------------------------- 0.0/50.1 MB ? eta -:--:--\n",
      "   ---- ----------------------------------- 5.2/50.1 MB 26.6 MB/s eta 0:00:02\n",
      "   -------- ------------------------------- 10.2/50.1 MB 24.5 MB/s eta 0:00:02\n",
      "   ------------ --------------------------- 15.2/50.1 MB 25.2 MB/s eta 0:00:02\n",
      "   ---------------- ----------------------- 20.4/50.1 MB 24.9 MB/s eta 0:00:02\n",
      "   -------------------- ------------------- 25.4/50.1 MB 24.8 MB/s eta 0:00:01\n",
      "   ----------------------- ---------------- 29.9/50.1 MB 24.3 MB/s eta 0:00:01\n",
      "   --------------------------- ------------ 34.9/50.1 MB 24.3 MB/s eta 0:00:01\n",
      "   ------------------------------- -------- 39.3/50.1 MB 24.0 MB/s eta 0:00:01\n",
      "   ---------------------------------- ----- 43.5/50.1 MB 23.7 MB/s eta 0:00:01\n",
      "   -------------------------------------- - 47.7/50.1 MB 23.4 MB/s eta 0:00:01\n",
      "   ---------------------------------------  50.1/50.1 MB 23.1 MB/s eta 0:00:01\n",
      "   ---------------------------------------- 50.1/50.1 MB 21.5 MB/s eta 0:00:00\n",
      "Downloading PyQt5_sip-12.15.0-cp312-cp312-win_amd64.whl (57 kB)\n",
      "Installing collected packages: PyQt5-Qt5, PyQt5-sip, PyQt5\n",
      "Successfully installed PyQt5-5.15.11 PyQt5-Qt5-5.15.2 PyQt5-sip-12.15.0\n"
     ]
    }
   ],
   "source": [
    "!pip install PyQt5"
   ]
  },
  {
   "cell_type": "code",
   "execution_count": null,
   "id": "7766d628-3433-4427-b5f5-d267e09a5de6",
   "metadata": {},
   "outputs": [],
   "source": []
  }
 ],
 "metadata": {
  "kernelspec": {
   "display_name": "Python 3 (ipykernel)",
   "language": "python",
   "name": "python3"
  },
  "language_info": {
   "codemirror_mode": {
    "name": "ipython",
    "version": 3
   },
   "file_extension": ".py",
   "mimetype": "text/x-python",
   "name": "python",
   "nbconvert_exporter": "python",
   "pygments_lexer": "ipython3",
   "version": "3.12.3"
  }
 },
 "nbformat": 4,
 "nbformat_minor": 5
}
